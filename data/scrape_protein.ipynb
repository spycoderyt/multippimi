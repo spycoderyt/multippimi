{
 "cells": [
  {
   "cell_type": "code",
   "execution_count": 1,
   "metadata": {},
   "outputs": [],
   "source": [
    "import os\n",
    "import pandas as pd\n",
    "prot_list = pd.read_csv(\"protein_seqs.csv\")['uniprot_id'].tolist()"
   ]
  },
  {
   "cell_type": "code",
   "execution_count": 2,
   "metadata": {},
   "outputs": [],
   "source": [
    "import requests\n",
    "from tqdm import tqdm\n",
    "import json\n",
    "folder_path = \"prot_pdb\"\n",
    "os.makedirs(folder_path, exist_ok=True)\n",
    "error_list = []\n",
    "\n",
    "def af_download(prot, folder_path):\n",
    "    url = f\"https://alphafold.ebi.ac.uk/api/prediction/{prot}\"\n",
    "    request = requests.get(url)\n",
    "    # print(json.dumps(request.json(), indent=2))\n",
    "    pdb_url = request.json()[0]['pdbUrl']\n",
    "    pdb_request = requests.get(pdb_url)\n",
    "    pdb_content = pdb_request.text\n",
    "    with open(os.path.join(folder_path, f\"{prot}.pdb\"), \"w\") as file:\n",
    "        file.write(pdb_content)\n"
   ]
  },
  {
   "cell_type": "code",
   "execution_count": 48,
   "metadata": {},
   "outputs": [
    {
     "name": "stdout",
     "output_type": "stream",
     "text": [
      "238 219\n",
      "19\n"
     ]
    }
   ],
   "source": [
    "print(len(prot_list), len(os.listdir(folder_path)))\n",
    "print(len(error_list))"
   ]
  },
  {
   "cell_type": "code",
   "execution_count": 51,
   "metadata": {},
   "outputs": [],
   "source": [
    "error_list = pd.DataFrame({\"uniprot_id\": error_list})\n",
    "error_list.to_csv(\"prot_error_list.csv\", index=False)"
   ]
  },
  {
   "cell_type": "code",
   "execution_count": 3,
   "metadata": {},
   "outputs": [],
   "source": [
    "import json\n",
    "\n",
    "def rcsb_download(prot, folder_path):\n",
    "    url = f\"https://www.ebi.ac.uk/proteins/api/proteins/{prot}\"\n",
    "    request = requests.get(url)\n",
    "    data = request.json()\n",
    "\n",
    "    pdb_refs = [ref for ref in data.get('dbReferences', []) if ref['type'] == 'PDB']\n",
    "\n",
    "    if not pdb_refs:\n",
    "        raise Exception(f\"No PDB references found for {prot}\")\n",
    "\n",
    "    pdb_id = pdb_refs[0]['id']\n",
    "    pdb_url = f\"https://files.rcsb.org/download/{pdb_id}.pdb\"\n",
    "\n",
    "    pdb_request = requests.get(pdb_url)\n",
    "    if pdb_request.status_code != 200:\n",
    "        raise Exception(f\"Failed to download PDB file for {prot}\")\n",
    "\n",
    "    pdb_content = pdb_request.text\n",
    "    with open(os.path.join(folder_path,f\"{prot}.pdb\"), \"w\") as file:\n",
    "        file.write(pdb_content)\n"
   ]
  },
  {
   "cell_type": "code",
   "execution_count": 4,
   "metadata": {},
   "outputs": [],
   "source": [
    "def swiss_download(prot, folder_path):\n",
    "    url = f\"https://swissmodel.expasy.org/repository/uniprot/{prot}.pdb\"\n",
    "    request = requests.get(url)\n",
    "    if request.status_code != 200:\n",
    "        raise Exception(f\"Failed to download PDB file for {prot}\")\n",
    "    pdb_content = request.text\n",
    "    with open(os.path.join(folder_path,f\"{prot}.pdb\"), \"w\") as file:\n",
    "        file.write(pdb_content)"
   ]
  },
  {
   "cell_type": "code",
   "execution_count": 6,
   "metadata": {},
   "outputs": [
    {
     "name": "stderr",
     "output_type": "stream",
     "text": [
      "100%|██████████| 238/238 [00:00<00:00, 57595.45it/s]\n"
     ]
    }
   ],
   "source": [
    "error_list = []\n",
    "for prot in tqdm(prot_list):\n",
    "    try:\n",
    "        if os.path.exists(os.path.join(folder_path, f\"{prot}.pdb\")):\n",
    "            continue\n",
    "        # af_download(prot, folder_path)\n",
    "        # rcsb_download(prot, folder_path)\n",
    "        swiss_download(prot, folder_path)\n",
    "    except Exception as e:\n",
    "        error_list.append(prot)\n",
    "        print(f\"Error for {prot}: {e}\")"
   ]
  }
 ],
 "metadata": {
  "kernelspec": {
   "display_name": "tensorml",
   "language": "python",
   "name": "python3"
  },
  "language_info": {
   "codemirror_mode": {
    "name": "ipython",
    "version": 3
   },
   "file_extension": ".py",
   "mimetype": "text/x-python",
   "name": "python",
   "nbconvert_exporter": "python",
   "pygments_lexer": "ipython3",
   "version": "3.11.6"
  }
 },
 "nbformat": 4,
 "nbformat_minor": 2
}
