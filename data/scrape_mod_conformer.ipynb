{
 "cells": [
  {
   "cell_type": "code",
   "execution_count": 2,
   "metadata": {},
   "outputs": [],
   "source": [
    "import os\n",
    "import pandas as pd\n",
    "datas = []\n",
    "for fold in os.listdir('folds'):\n",
    "    for file in os.listdir(f'folds/{fold}'):\n",
    "        data = pd.read_csv(f'folds/{fold}/{file}')\n",
    "        datas.append(data)\n",
    "combined_data = pd.concat(datas, ignore_index=True)\n",
    "filtered_data = combined_data[['dlip_id', 'SMILES']]\n",
    "filtered_data = filtered_data.drop_duplicates().reset_index(drop=True)\n",
    "filtered_data.to_csv('mod_filtered_data.csv', index=False)"
   ]
  },
  {
   "cell_type": "code",
   "execution_count": 5,
   "metadata": {},
   "outputs": [
    {
     "data": {
      "text/plain": [
       "'Cc1cccc(Cl)c1C(=O)N[C@@H](Cc1ccc(NC(=O)c2c(Cl)cccc2Cl)cc1)C(=O)O'"
      ]
     },
     "execution_count": 5,
     "metadata": {},
     "output_type": "execute_result"
    }
   ],
   "source": [
    "filtered_data.iloc[0,1]"
   ]
  },
  {
   "cell_type": "code",
   "execution_count": 25,
   "metadata": {},
   "outputs": [
    {
     "name": "stdout",
     "output_type": "stream",
     "text": [
      "No results found or an error occurred.\n"
     ]
    }
   ],
   "source": [
    "import requests\n",
    "import json\n",
    "\n",
    "def search_pubchem(smiles):\n",
    "    url = f\"https://pubchem.ncbi.nlm.nih.gov/rest/pug/compound/substructure/smiles/{smiles}/JSON\"\n",
    "    response = requests.get(url)\n",
    "    if response.status_code == 200:\n",
    "        return json.loads(response.text)\n",
    "    else:\n",
    "        return None\n",
    "\n",
    "# Example SMILES for testing\n",
    "test_smiles = \"Cc1cccc(Cl)c1C(=O)N[C@@H](Cc1ccc(NC(=O)c2c(Cl)cccc2Cl)cc1)C(=O)O\"\n",
    "\n",
    "result = search_pubchem(test_smiles)\n",
    "\n",
    "if result:\n",
    "    print(json.dumps(result, indent=2))\n",
    "else:\n",
    "    print(\"No results found or an error occurred.\")\n"
   ]
  },
  {
   "cell_type": "code",
   "execution_count": 4,
   "metadata": {},
   "outputs": [
    {
     "name": "stderr",
     "output_type": "stream",
     "text": [
      "  0%|          | 0/21781 [00:00<?, ?it/s]"
     ]
    },
    {
     "name": "stderr",
     "output_type": "stream",
     "text": [
      "100%|██████████| 21781/21781 [03:39<00:00, 99.28it/s] "
     ]
    },
    {
     "name": "stdout",
     "output_type": "stream",
     "text": [
      "All PDB files have been saved to the 'mol_pdb' folder.\n",
      "total length: 21781 and downloaded length: 10025\n"
     ]
    },
    {
     "name": "stderr",
     "output_type": "stream",
     "text": [
      "\n"
     ]
    }
   ],
   "source": [
    "import pubchempy as pcp\n",
    "import os\n",
    "import tempfile\n",
    "import pandas as pd\n",
    "from rdkit import Chem\n",
    "from tqdm import tqdm\n",
    "\n",
    "# Create mol_pdb folder if it doesn't exist\n",
    "mol_pdb_folder = \"mol_pdb\"\n",
    "os.makedirs(mol_pdb_folder, exist_ok=True)\n",
    "error_list = []\n",
    "\n",
    "# Load filtered_data\n",
    "filtered_data = pd.read_csv('mod_filtered_data.csv')\n",
    "\n",
    "for index, row in tqdm(filtered_data.iterrows(), total=len(filtered_data)):\n",
    "    smiles = row['SMILES']\n",
    "    dlip_id = row['dlip_id']\n",
    "    if os.path.exists(f'{mol_pdb_folder}/{dlip_id}.pdb'):\n",
    "        continue\n",
    "    try:\n",
    "        compound = pcp.get_compounds(smiles, 'smiles', record_type='3d')\n",
    "        if compound:\n",
    "            cid = compound[0].cid\n",
    "            \n",
    "            # Download SDF to a temporary file\n",
    "            with tempfile.NamedTemporaryFile(mode=\"w\", suffix=\".sdf\", delete=False) as temp_sdf_file:\n",
    "                pcp.download('SDF', temp_sdf_file.name, cid, 'cid', overwrite=True, record_type='3d')\n",
    "                \n",
    "                # Convert SDF to PDB\n",
    "                mol_supplier = Chem.SDMolSupplier(temp_sdf_file.name)\n",
    "                for mol in mol_supplier:\n",
    "                    if mol is not None:\n",
    "                        pdb_file_path = os.path.join(mol_pdb_folder, f\"{dlip_id}.pdb\")\n",
    "                        Chem.MolToPDBFile(mol, pdb_file_path)\n",
    "                        print(f\"Processed {pdb_file_path}\")\n",
    "                        break\n",
    "                else:\n",
    "                    error_list.append((dlip_id,smiles))\n",
    "                    # print(f\"No valid molecule found for {dlip_id}\")\n",
    "\n",
    "            # Clean up the temporary SDF file\n",
    "            os.unlink(temp_sdf_file.name)\n",
    "        else:\n",
    "            error_list.append((dlip_id,smiles))\n",
    "            # print(f\"No compound found for {dlip_id} and smiles: {smiles}\")\n",
    "    except Exception as e:\n",
    "        error_list.append((dlip_id,smiles))\n",
    "        # print(f\"Error processing {dlip_id}: {str(e)}\")\n",
    "\n",
    "print(\"All PDB files have been saved to the 'mol_pdb' folder.\")\n",
    "print(f\"total length: {len(filtered_data)} and downloaded length: {len(os.listdir('mol_pdb'))}\")"
   ]
  },
  {
   "cell_type": "code",
   "execution_count": null,
   "metadata": {},
   "outputs": [],
   "source": []
  }
 ],
 "metadata": {
  "kernelspec": {
   "display_name": "tensorml",
   "language": "python",
   "name": "python3"
  },
  "language_info": {
   "codemirror_mode": {
    "name": "ipython",
    "version": 3
   },
   "file_extension": ".py",
   "mimetype": "text/x-python",
   "name": "python",
   "nbconvert_exporter": "python",
   "pygments_lexer": "ipython3",
   "version": "3.11.6"
  }
 },
 "nbformat": 4,
 "nbformat_minor": 2
}
